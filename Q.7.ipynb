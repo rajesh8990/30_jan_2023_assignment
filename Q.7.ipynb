{
 "cells": [
  {
   "cell_type": "code",
   "execution_count": 2,
   "id": "a0c655b0-1d5d-4770-a14f-a1cfb7399967",
   "metadata": {},
   "outputs": [
    {
     "name": "stdout",
     "output_type": "stream",
     "text": [
      "10\n",
      "9\n",
      "8\n",
      "7\n",
      "6\n",
      "5\n",
      "4\n",
      "3\n",
      "2\n",
      "1\n"
     ]
    }
   ],
   "source": [
    "# Q.7 Rivers a while loop to display numbers from 10 to 1\n",
    "# Creat a variable \n",
    "rev=10\n",
    "while(rev>=1):\n",
    "    print(rev)\n",
    "    rev=rev-1"
   ]
  },
  {
   "cell_type": "code",
   "execution_count": null,
   "id": "4791ec88-d1d1-4028-8eb2-a5637784dd40",
   "metadata": {},
   "outputs": [],
   "source": []
  }
 ],
 "metadata": {
  "kernelspec": {
   "display_name": "Python 3 (ipykernel)",
   "language": "python",
   "name": "python3"
  },
  "language_info": {
   "codemirror_mode": {
    "name": "ipython",
    "version": 3
   },
   "file_extension": ".py",
   "mimetype": "text/x-python",
   "name": "python",
   "nbconvert_exporter": "python",
   "pygments_lexer": "ipython3",
   "version": "3.10.8"
  }
 },
 "nbformat": 4,
 "nbformat_minor": 5
}
