{
 "cells": [
  {
   "cell_type": "code",
   "execution_count": 14,
   "id": "e2694806-c94e-4cc1-a80d-b672d4523877",
   "metadata": {},
   "outputs": [
    {
     "name": "stdin",
     "output_type": "stream",
     "text": [
      "Enter city name :  delhi\n"
     ]
    },
    {
     "name": "stdout",
     "output_type": "stream",
     "text": [
      "The monuments in delhi are:\n",
      "Red Fort"
     ]
    }
   ],
   "source": [
    "\"\"\" Q.3 Except any city from the user and display monuments of that city .\"\"\"\n",
    "# Creat a dictionary to store monument\n",
    "monuments={\"delhi\":\"Red Fort\",\"agra\":\"taj Mahal\",\"jaipur\":\"Jal Mahal\"}\n",
    "# Get city name from the user\n",
    "city_name=(input(\"Enter city name : \"))\n",
    "# Conver user input lower case\n",
    "city=city_name.lower()\n",
    "# Check if the entered city is in the dictionary and display monuments\n",
    "if city in monuments:\n",
    "    print(f\"The monuments in {city_name} are:\")\n",
    "    for monument in monuments[city]:\n",
    "        print(monument,end=\"\")\n",
    "else:\n",
    "    print(f\"Sorry, we don't have information about monuments in {city_name}.\")\n",
    " "
   ]
  },
  {
   "cell_type": "code",
   "execution_count": null,
   "id": "df7ba900-88c1-4f70-9432-a114b9fb4595",
   "metadata": {},
   "outputs": [],
   "source": []
  }
 ],
 "metadata": {
  "kernelspec": {
   "display_name": "Python 3 (ipykernel)",
   "language": "python",
   "name": "python3"
  },
  "language_info": {
   "codemirror_mode": {
    "name": "ipython",
    "version": 3
   },
   "file_extension": ".py",
   "mimetype": "text/x-python",
   "name": "python",
   "nbconvert_exporter": "python",
   "pygments_lexer": "ipython3",
   "version": "3.10.8"
  }
 },
 "nbformat": 4,
 "nbformat_minor": 5
}
