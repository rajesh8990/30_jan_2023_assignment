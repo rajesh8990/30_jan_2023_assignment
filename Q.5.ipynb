{
 "cells": [
  {
   "cell_type": "code",
   "execution_count": null,
   "id": "22188b8d-4b59-487d-bc8b-eb66109ec126",
   "metadata": {},
   "outputs": [],
   "source": [
    "\"\"\" Q.5 Why and when to use while loop in python give a detailed description with example .\n",
    "\n",
    "    Ans. A while loop in python is  used to repeatedly executive a block of code, \n",
    "         as long as a certain condition remains true.\n",
    "         \n",
    "         When to use a while loop\n",
    "        \n",
    "        Use a while loop when we don't know beforehand how many times you need to repeat a task. \n",
    "        But you know the task should continue until a specific condition is met.\"\"\"\n",
    "         \n",
    "         "
   ]
  },
  {
   "cell_type": "code",
   "execution_count": 8,
   "id": "1b84a9f7-377c-4ae1-8040-8311a88fa8c5",
   "metadata": {},
   "outputs": [
    {
     "name": "stdout",
     "output_type": "stream",
     "text": [
      "1 , 2 , 3 , 4 , 5 , 6 , 7 , 8 , 9 , 10 , 11 , 12 , 13 , 14 , 15 , 16 , 17 , 18 , 19 , 20 , 21 , 22 , 23 , 24 , 25 , 26 , 27 , 28 , 29 , 30 , 31 , 32 , 33 , 34 , 35 , 36 , 37 , 38 , 39 , 40 , 41 , 42 , 43 , 44 , 45 , 46 , 47 , 48 , 49 , 50 , 51 , 52 , 53 , 54 , 55 , 56 , 57 , 58 , 59 , 60 , 61 , 62 , 63 , 64 , 65 , 66 , 67 , 68 , 69 , 70 , 71 , 72 , 73 , 74 , 75 , 76 , 77 , 78 , 79 , 80 , 81 , 82 , 83 , 84 , 85 , 86 , 87 , 88 , 89 , 90 , 91 , 92 , 93 , 94 , 95 , 96 , 97 , 98 , 99 , 100 , "
     ]
    }
   ],
   "source": [
    "# Example while loop\n",
    "# Print counting 1 to 100\n",
    "# Creat a variable name is coun to store 1\n",
    "coun=1\n",
    "while (coun<=100):\n",
    "    \n",
    "    print(coun, end=\" , \")\n",
    "    coun=coun+1"
   ]
  },
  {
   "cell_type": "code",
   "execution_count": null,
   "id": "5418ba5b-6c89-4c85-81d6-794e5be8653d",
   "metadata": {},
   "outputs": [],
   "source": []
  }
 ],
 "metadata": {
  "kernelspec": {
   "display_name": "Python 3 (ipykernel)",
   "language": "python",
   "name": "python3"
  },
  "language_info": {
   "codemirror_mode": {
    "name": "ipython",
    "version": 3
   },
   "file_extension": ".py",
   "mimetype": "text/x-python",
   "name": "python",
   "nbconvert_exporter": "python",
   "pygments_lexer": "ipython3",
   "version": "3.10.8"
  }
 },
 "nbformat": 4,
 "nbformat_minor": 5
}
