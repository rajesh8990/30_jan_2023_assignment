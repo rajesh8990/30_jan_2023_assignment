{
 "cells": [
  {
   "cell_type": "code",
   "execution_count": 3,
   "id": "9b988e38-59b4-4201-94ec-519d28ad1c7c",
   "metadata": {},
   "outputs": [
    {
     "name": "stdin",
     "output_type": "stream",
     "text": [
      "Enter number : 29\n"
     ]
    },
    {
     "name": "stdout",
     "output_type": "stream",
     "text": [
      "The number 29 divided by 3 , 1 times before it is less than or equal to 10\n"
     ]
    }
   ],
   "source": [
    "\"\"\" Q.4 check how many times a given number can be divided by 3 before\n",
    "        it is less than or equal to 10.\"\"\"\n",
    "#Enter Number\n",
    "num=int(input(\"Enter number :\"))\n",
    "c=num\n",
    "b=0\n",
    "while(num>=10):\n",
    "    num=num/3\n",
    "    b=b+1\n",
    "print(f\"The number {c} divided by 3 , {b} times before\n",
    "      it is less than or equal to 10\")"
   ]
  },
  {
   "cell_type": "code",
   "execution_count": null,
   "id": "123c033d-ffc3-4850-87a4-97018ab57441",
   "metadata": {},
   "outputs": [],
   "source": []
  }
 ],
 "metadata": {
  "kernelspec": {
   "display_name": "Python 3 (ipykernel)",
   "language": "python",
   "name": "python3"
  },
  "language_info": {
   "codemirror_mode": {
    "name": "ipython",
    "version": 3
   },
   "file_extension": ".py",
   "mimetype": "text/x-python",
   "name": "python",
   "nbconvert_exporter": "python",
   "pygments_lexer": "ipython3",
   "version": "3.10.8"
  }
 },
 "nbformat": 4,
 "nbformat_minor": 5
}
