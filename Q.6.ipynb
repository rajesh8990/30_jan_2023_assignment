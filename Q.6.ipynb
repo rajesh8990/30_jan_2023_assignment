{
 "cells": [
  {
   "cell_type": "code",
   "execution_count": 1,
   "id": "be01c7f7-3096-4836-8429-3ec10f26793e",
   "metadata": {},
   "outputs": [
    {
     "name": "stdout",
     "output_type": "stream",
     "text": [
      "* \n",
      "* * \n",
      "* * * \n",
      "* * * * \n",
      "* * * * * \n"
     ]
    }
   ],
   "source": [
    "# Use nested  while loop to print 3 different pattern.\n",
    "# first attern\n",
    "row=1\n",
    "while(row<=5):\n",
    "    colum=1\n",
    "    while(colum<=row):\n",
    "        print(\"*\",end=\" \")\n",
    "        colum=colum+1\n",
    "    print()\n",
    "    row=row+1"
   ]
  },
  {
   "cell_type": "code",
   "execution_count": 2,
   "id": "c4c0abc3-7597-4e87-8c58-a47b807576c0",
   "metadata": {},
   "outputs": [
    {
     "name": "stdout",
     "output_type": "stream",
     "text": [
      "* * * * * \n",
      "* * * * * \n",
      "* * * * * \n",
      "* * * * * \n",
      "* * * * * \n"
     ]
    }
   ],
   "source": [
    "# Second pattern\n",
    "\n",
    "row=1\n",
    "while(row<=5):\n",
    "    colum=1\n",
    "    while(colum<=5):\n",
    "        print(\"*\",end=\" \")\n",
    "        colum=colum+1\n",
    "    print()\n",
    "    row=row+1"
   ]
  },
  {
   "cell_type": "code",
   "execution_count": 2,
   "id": "b46bbabc-474e-4ae2-a902-89a49216530c",
   "metadata": {},
   "outputs": [
    {
     "name": "stdout",
     "output_type": "stream",
     "text": [
      "* * * * * \n",
      "* * * * \n",
      "* * * \n",
      "* * \n",
      "* \n"
     ]
    }
   ],
   "source": [
    "# Third pattern\n",
    "\n",
    "row=1\n",
    "while(row<=5):\n",
    "    colum=5\n",
    "    while(colum>=row):\n",
    "        print(\"*\",end=\" \")\n",
    "        colum=colum-1\n",
    "    print()\n",
    "    row=row+1"
   ]
  },
  {
   "cell_type": "code",
   "execution_count": null,
   "id": "dd5c306a-f86c-4026-8cf5-8a27e8c1e818",
   "metadata": {},
   "outputs": [],
   "source": []
  }
 ],
 "metadata": {
  "kernelspec": {
   "display_name": "Python 3 (ipykernel)",
   "language": "python",
   "name": "python3"
  },
  "language_info": {
   "codemirror_mode": {
    "name": "ipython",
    "version": 3
   },
   "file_extension": ".py",
   "mimetype": "text/x-python",
   "name": "python",
   "nbconvert_exporter": "python",
   "pygments_lexer": "ipython3",
   "version": "3.10.8"
  }
 },
 "nbformat": 4,
 "nbformat_minor": 5
}
