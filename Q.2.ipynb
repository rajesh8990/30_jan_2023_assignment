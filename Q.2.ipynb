{
 "cells": [
  {
   "cell_type": "code",
   "execution_count": 5,
   "id": "ca971bd9-5f18-4d0b-9be3-fd8c315da01a",
   "metadata": {},
   "outputs": [
    {
     "name": "stdin",
     "output_type": "stream",
     "text": [
      "Enter vehical cost price : 30000\n"
     ]
    },
    {
     "name": "stdout",
     "output_type": "stream",
     "text": [
      "Road tax 5 % \n",
      " Road tax to be paid : 1500.0\n"
     ]
    }
   ],
   "source": [
    "\"\"\" Q.2 Write a program to accept the cost price of a bike and display\n",
    "        the road tax to be paid according to the following criteria .\"\"\"\n",
    "\n",
    "# Enter the cost price by  user\n",
    "veh=int(input(\"Enter vehical cost price :\"))\n",
    "if(veh>100000):\n",
    "    # Calculat road tax\n",
    "    print(\"Road tax : 15% \\n Road tax to be paid :\",veh*.15)\n",
    "elif(veh>50000 and veh<=100000):\n",
    "    # Calculat road tax\n",
    "    print(\"Road tax : 10 % \\n Road tax to be paid \",veh*.1)\n",
    "else:\n",
    "    (veh<=50000)\n",
    "    # Calculat road tax\n",
    "    print(\"Road tax 5 % \\n Road tax to be paid :\",veh*.05)\n"
   ]
  },
  {
   "cell_type": "code",
   "execution_count": null,
   "id": "43c7b78a-658c-41d6-95b5-7785dddb7e53",
   "metadata": {},
   "outputs": [],
   "source": []
  }
 ],
 "metadata": {
  "kernelspec": {
   "display_name": "Python 3 (ipykernel)",
   "language": "python",
   "name": "python3"
  },
  "language_info": {
   "codemirror_mode": {
    "name": "ipython",
    "version": 3
   },
   "file_extension": ".py",
   "mimetype": "text/x-python",
   "name": "python",
   "nbconvert_exporter": "python",
   "pygments_lexer": "ipython3",
   "version": "3.10.8"
  }
 },
 "nbformat": 4,
 "nbformat_minor": 5
}
