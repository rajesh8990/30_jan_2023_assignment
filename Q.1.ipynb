{
 "cells": [
  {
   "cell_type": "code",
   "execution_count": 3,
   "id": "e69fb1c6-79d4-4990-896c-4139bbb7dcbc",
   "metadata": {},
   "outputs": [
    {
     "name": "stdin",
     "output_type": "stream",
     "text": [
      "Enter your  marks in your parcentage : 56\n"
     ]
    },
    {
     "name": "stdout",
     "output_type": "stream",
     "text": [
      "D grade\n"
     ]
    }
   ],
   "source": [
    "\"\"\"\n",
    "Q.1. Write a program to accept percentage from the user and display the \n",
    "     grade according to the following criteria.\n",
    "\"\"\"\n",
    "# input  your marks in your parcentage by user\n",
    "p=int(input(\"Enter your  marks in your parcentage :\"))\n",
    "if(p>90):\n",
    "    print(\"A Grade\")\n",
    "elif(p>80):\n",
    "          print(\"B Grade\")\n",
    "elif(p>=60):\n",
    "          print(\"C Grade\")\n",
    "else:\n",
    "    print(\"D grade\")\n",
    "    "
   ]
  },
  {
   "cell_type": "code",
   "execution_count": null,
   "id": "64214999-10db-42cd-a0b8-9cea6f3d5e97",
   "metadata": {},
   "outputs": [],
   "source": []
  }
 ],
 "metadata": {
  "kernelspec": {
   "display_name": "Python 3 (ipykernel)",
   "language": "python",
   "name": "python3"
  },
  "language_info": {
   "codemirror_mode": {
    "name": "ipython",
    "version": 3
   },
   "file_extension": ".py",
   "mimetype": "text/x-python",
   "name": "python",
   "nbconvert_exporter": "python",
   "pygments_lexer": "ipython3",
   "version": "3.10.8"
  }
 },
 "nbformat": 4,
 "nbformat_minor": 5
}
